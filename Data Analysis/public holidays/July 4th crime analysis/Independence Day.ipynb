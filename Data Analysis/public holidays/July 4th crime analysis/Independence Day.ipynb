{
 "cells": [
  {
   "cell_type": "code",
   "execution_count": 78,
   "metadata": {
    "collapsed": true
   },
   "outputs": [],
   "source": [
    "import pandas as pd\n",
    "import numpy as np\n",
    "import matplotlib\n",
    "import matplotlib.pyplot as plt\n",
    "%matplotlib inline\n",
    "import gmplot"
   ]
  },
  {
   "cell_type": "code",
   "execution_count": 3,
   "metadata": {
    "collapsed": true
   },
   "outputs": [],
   "source": [
    "df = pd.read_csv('event.csv', names=['Month', 'Date', 'Year', 'Offence', 'Offence_Desc', 'Borough', 'Lat', 'Long', 'Count'])"
   ]
  },
  {
   "cell_type": "code",
   "execution_count": 15,
   "metadata": {},
   "outputs": [
    {
     "data": {
      "text/html": [
       "<div>\n",
       "<style>\n",
       "    .dataframe thead tr:only-child th {\n",
       "        text-align: right;\n",
       "    }\n",
       "\n",
       "    .dataframe thead th {\n",
       "        text-align: left;\n",
       "    }\n",
       "\n",
       "    .dataframe tbody tr th {\n",
       "        vertical-align: top;\n",
       "    }\n",
       "</style>\n",
       "<table border=\"1\" class=\"dataframe\">\n",
       "  <thead>\n",
       "    <tr style=\"text-align: right;\">\n",
       "      <th></th>\n",
       "      <th>Month</th>\n",
       "      <th>Date</th>\n",
       "      <th>Year</th>\n",
       "      <th>Offence</th>\n",
       "      <th>Offence_Desc</th>\n",
       "      <th>Borough</th>\n",
       "      <th>Lat</th>\n",
       "      <th>Long</th>\n",
       "      <th>Count</th>\n",
       "    </tr>\n",
       "  </thead>\n",
       "  <tbody>\n",
       "    <tr>\n",
       "      <th>805611</th>\n",
       "      <td>7</td>\n",
       "      <td>4</td>\n",
       "      <td>2006</td>\n",
       "      <td>ADMINISTRATIVE CODE</td>\n",
       "      <td>ADM.CODEUNCLASSIFIED MISDEMEA</td>\n",
       "      <td>BROOKLYN</td>\n",
       "      <td>40.655986</td>\n",
       "      <td>-73.954723</td>\n",
       "      <td>1</td>\n",
       "    </tr>\n",
       "    <tr>\n",
       "      <th>805612</th>\n",
       "      <td>7</td>\n",
       "      <td>4</td>\n",
       "      <td>2006</td>\n",
       "      <td>ADMINISTRATIVE CODE</td>\n",
       "      <td>ADM.CODEUNCLASSIFIED MISDEMEA</td>\n",
       "      <td>BROOKLYN</td>\n",
       "      <td>40.700342</td>\n",
       "      <td>-73.916692</td>\n",
       "      <td>1</td>\n",
       "    </tr>\n",
       "    <tr>\n",
       "      <th>805613</th>\n",
       "      <td>7</td>\n",
       "      <td>4</td>\n",
       "      <td>2006</td>\n",
       "      <td>ASSAULT 3 &amp; RELATED OFFENSES</td>\n",
       "      <td>ASSAULT 3</td>\n",
       "      <td>BRONX</td>\n",
       "      <td>40.835940</td>\n",
       "      <td>-73.886466</td>\n",
       "      <td>1</td>\n",
       "    </tr>\n",
       "    <tr>\n",
       "      <th>805614</th>\n",
       "      <td>7</td>\n",
       "      <td>4</td>\n",
       "      <td>2006</td>\n",
       "      <td>ASSAULT 3 &amp; RELATED OFFENSES</td>\n",
       "      <td>ASSAULT 3</td>\n",
       "      <td>BRONX</td>\n",
       "      <td>40.846954</td>\n",
       "      <td>-73.852110</td>\n",
       "      <td>1</td>\n",
       "    </tr>\n",
       "    <tr>\n",
       "      <th>805615</th>\n",
       "      <td>7</td>\n",
       "      <td>4</td>\n",
       "      <td>2006</td>\n",
       "      <td>ASSAULT 3 &amp; RELATED OFFENSES</td>\n",
       "      <td>ASSAULT 3</td>\n",
       "      <td>BRONX</td>\n",
       "      <td>40.849321</td>\n",
       "      <td>-73.912359</td>\n",
       "      <td>1</td>\n",
       "    </tr>\n",
       "  </tbody>\n",
       "</table>\n",
       "</div>"
      ],
      "text/plain": [
       "        Month  Date  Year                       Offence  \\\n",
       "805611      7     4  2006           ADMINISTRATIVE CODE   \n",
       "805612      7     4  2006           ADMINISTRATIVE CODE   \n",
       "805613      7     4  2006  ASSAULT 3 & RELATED OFFENSES   \n",
       "805614      7     4  2006  ASSAULT 3 & RELATED OFFENSES   \n",
       "805615      7     4  2006  ASSAULT 3 & RELATED OFFENSES   \n",
       "\n",
       "                         Offence_Desc   Borough        Lat       Long  Count  \n",
       "805611  ADM.CODEUNCLASSIFIED MISDEMEA  BROOKLYN  40.655986 -73.954723      1  \n",
       "805612  ADM.CODEUNCLASSIFIED MISDEMEA  BROOKLYN  40.700342 -73.916692      1  \n",
       "805613                      ASSAULT 3     BRONX  40.835940 -73.886466      1  \n",
       "805614                      ASSAULT 3     BRONX  40.846954 -73.852110      1  \n",
       "805615                      ASSAULT 3     BRONX  40.849321 -73.912359      1  "
      ]
     },
     "execution_count": 15,
     "metadata": {},
     "output_type": "execute_result"
    }
   ],
   "source": [
    "jul4 = df.loc[(df['Month']==7) & (df['Date']==4)]\n"
   ]
  },
  {
   "cell_type": "code",
   "execution_count": 17,
   "metadata": {},
   "outputs": [
    {
     "data": {
      "text/plain": [
       "2012    472\n",
       "2014    457\n",
       "2009    455\n",
       "2013    427\n",
       "2011    426\n",
       "2015    418\n",
       "2010    405\n",
       "2016    403\n",
       "2006    386\n",
       "2008    377\n",
       "2007    376\n",
       "Name: Year, dtype: int64"
      ]
     },
     "execution_count": 17,
     "metadata": {},
     "output_type": "execute_result"
    }
   ],
   "source": [
    "jul4['Year'].value_counts()"
   ]
  },
  {
   "cell_type": "code",
   "execution_count": 19,
   "metadata": {},
   "outputs": [
    {
     "data": {
      "text/plain": [
       "Year  Borough      \n",
       "2006  BRONX             83\n",
       "      BROOKLYN         125\n",
       "      MANHATTAN         87\n",
       "      QUEENS            74\n",
       "      STATEN ISLAND     35\n",
       "2007  BRONX             95\n",
       "      BROOKLYN         121\n",
       "      MANHATTAN         71\n",
       "      QUEENS            88\n",
       "      STATEN ISLAND     25\n",
       "2008  BRONX             76\n",
       "      BROOKLYN         133\n",
       "      MANHATTAN         71\n",
       "      QUEENS            99\n",
       "      STATEN ISLAND     20\n",
       "2009  BRONX             88\n",
       "      BROOKLYN         162\n",
       "      MANHATTAN        105\n",
       "      QUEENS           104\n",
       "      STATEN ISLAND     25\n",
       "2010  BRONX             79\n",
       "      BROOKLYN         142\n",
       "      MANHATTAN         77\n",
       "      QUEENS           101\n",
       "      STATEN ISLAND     17\n",
       "2011  BRONX             85\n",
       "      BROOKLYN         171\n",
       "      MANHATTAN         61\n",
       "      QUEENS           116\n",
       "      STATEN ISLAND     26\n",
       "2012  BRONX            104\n",
       "      BROOKLYN         164\n",
       "      MANHATTAN         90\n",
       "      QUEENS           113\n",
       "      STATEN ISLAND     27\n",
       "2013  BRONX            106\n",
       "      BROOKLYN         135\n",
       "      MANHATTAN         77\n",
       "      QUEENS            99\n",
       "      STATEN ISLAND     32\n",
       "2014  BRONX            102\n",
       "      BROOKLYN         140\n",
       "      MANHATTAN         94\n",
       "      QUEENS           113\n",
       "      STATEN ISLAND     22\n",
       "2015  BRONX             85\n",
       "      BROOKLYN         143\n",
       "      MANHATTAN         88\n",
       "      QUEENS           113\n",
       "      STATEN ISLAND     22\n",
       "2016  BRONX            100\n",
       "      BROOKLYN         128\n",
       "      MANHATTAN         82\n",
       "      QUEENS            86\n",
       "      STATEN ISLAND     23\n",
       "Name: Count, dtype: int64"
      ]
     },
     "execution_count": 19,
     "metadata": {},
     "output_type": "execute_result"
    }
   ],
   "source": [
    "yearwise = jul4[['Year', 'Borough', 'Count']].groupby(['Year', 'Borough'])['Count'].sum()\n",
    "yearwise"
   ]
  },
  {
   "cell_type": "code",
   "execution_count": 77,
   "metadata": {},
   "outputs": [
    {
     "data": {
      "text/plain": [
       "<matplotlib.legend.Legend at 0x1ec8465fa58>"
      ]
     },
     "execution_count": 77,
     "metadata": {},
     "output_type": "execute_result"
    },
    {
     "data": {
      "text/plain": [
       "<matplotlib.figure.Figure at 0x1ec8465fd30>"
      ]
     },
     "metadata": {},
     "output_type": "display_data"
    },
    {
     "data": {
      "image/png": "[encoded data removed]",
      "text/plain": [
       "<matplotlib.figure.Figure at 0x1ec84600390>"
      ]
     },
     "metadata": {},
     "output_type": "display_data"
    }
   ],
   "source": [
    "fig=plt.figure(figsize=(100, 100), dpi= 150, facecolor='w', edgecolor='k')\n",
    "colors=['r', 'b', 'y', 'g', 'xkcd:purple']\n",
    "legends = ['2006','2007','2008','2009', '2010', '2011','2012','2013','2014','2015', '2016']\n",
    "a = yearwise.unstack().plot(kind='bar', rot=1, title=\"NUMBER OF CRIMES COMMITTED FROM 2006-2016 ON JULY 4\", legend=legends, color=colors, label=legends, width=0.8)\n",
    "a.legend(loc='center left',bbox_to_anchor = (1,0.5))"
   ]
  },
  {
   "cell_type": "code",
   "execution_count": 27,
   "metadata": {},
   "outputs": [
    {
     "data": {
      "text/plain": [
       "Year  Offence                       \n",
       "2014  PETIT LARCENY                     150\n",
       "2013  PETIT LARCENY                     132\n",
       "2010  PETIT LARCENY                     120\n",
       "2011  PETIT LARCENY                     119\n",
       "2009  PETIT LARCENY                     118\n",
       "2015  PETIT LARCENY                     117\n",
       "2016  PETIT LARCENY                     113\n",
       "2012  ASSAULT 3 & RELATED OFFENSES      111\n",
       "2009  CRIMINAL MISCHIEF & RELATED OF    108\n",
       "2016  ASSAULT 3 & RELATED OFFENSES      107\n",
       "2014  ASSAULT 3 & RELATED OFFENSES      103\n",
       "Name: Count, dtype: int64"
      ]
     },
     "execution_count": 27,
     "metadata": {},
     "output_type": "execute_result"
    }
   ],
   "source": [
    "specific_crimes = jul4[['Year', 'Offence', 'Count']].groupby(['Year', 'Offence'])['Count'].count().nlargest(11)\n",
    "specific_crimes"
   ]
  },
  {
   "cell_type": "code",
   "execution_count": 73,
   "metadata": {},
   "outputs": [
    {
     "data": {
      "text/plain": [
       "<matplotlib.axes._subplots.AxesSubplot at 0x1ec8462a748>"
      ]
     },
     "execution_count": 73,
     "metadata": {},
     "output_type": "execute_result"
    },
    {
     "data": {
      "image/png": "[encoded data removed]",
      "text/plain": [
       "<matplotlib.figure.Figure at 0x1ec8414c390>"
      ]
     },
     "metadata": {},
     "output_type": "display_data"
    }
   ],
   "source": [
    "specific_crimes.plot(kind='bar', title=\"Top Crimes on July4\",colormap='YlOrRd_r')"
   ]
  },
  {
   "cell_type": "code",
   "execution_count": 79,
   "metadata": {},
   "outputs": [
    {
     "data": {
      "text/plain": [
       "Offence\n",
       "PETIT LARCENY                      1249\n",
       "ASSAULT 3 & RELATED OFFENSES       1039\n",
       "CRIMINAL MISCHIEF & RELATED OF      849\n",
       "OFF. AGNST PUB ORD SENSBLTY &       462\n",
       "DANGEROUS DRUGS                     235\n",
       "OFFENSES AGAINST PUBLIC ADMINI      203\n",
       "OFFENSES AGAINST THE PERSON         112\n",
       "CRIMINAL TRESPASS                    80\n",
       "OFFENSES AGAINST PUBLIC SAFETY       73\n",
       "DANGEROUS WEAPONS                    53\n",
       "INTOXICATED & IMPAIRED DRIVING       50\n",
       "SEX CRIMES                           48\n",
       "UNAUTHORIZED USE OF A VEHICLE        35\n",
       "VEHICLE AND TRAFFIC LAWS             23\n",
       "FRAUDS                               22\n",
       "POSSESSION OF STOLEN PROPERTY        16\n",
       "ADMINISTRATIVE CODE                  16\n",
       "OTHER OFFENSES RELATED TO THEF       15\n",
       "OFFENSES INVOLVING FRAUD              7\n",
       "OTHER STATE LAWS  NON PENAL LA        4\n",
       "FRAUDULENT ACCOSTING                  4\n",
       "BURGLARS TOOLS                        2\n",
       "ALCOHOLIC BEVERAGE CONTROL LAW        1\n",
       "JOSTLING                              1\n",
       "GAMBLING                              1\n",
       "OFFENSES RELATED TO CHILDREN          1\n",
       "PROSTITUTION & RELATED OFFENSES       1\n",
       "Name: Count, dtype: int64"
      ]
     },
     "execution_count": 79,
     "metadata": {},
     "output_type": "execute_result"
    }
   ],
   "source": [
    "total_crimes = jul4[['Offence', 'Count']].groupby(['Offence'])['Count'].count().nlargest(30)\n",
    "total_crimes"
   ]
  },
  {
   "cell_type": "code",
   "execution_count": 84,
   "metadata": {},
   "outputs": [],
   "source": [
    "holiday_crimes = jul4.loc[(jul4['Offence']==\"OFF. AGNST PUB ORD SENSBLTY &\") | (jul4['Offence']==\"OFFENSES AGAINST PUBLIC ADMINI\") | (jul4['Offence']==\"INTOXICATED & IMPAIRED DRIVING\") | (jul4['Offence']==\"DANGEROUS WEAPONS\") | (jul4['Offence']==\"OFFENSES AGAINST PUBLIC SAFETY\") | (jul4['Offence']==\"VEHICLE AND TRAFFIC LAWS\")  ]          "
   ]
  },
  {
   "cell_type": "code",
   "execution_count": 86,
   "metadata": {},
   "outputs": [
    {
     "name": "stderr",
     "output_type": "stream",
     "text": [
      "C:\\Users\\ss104\\Anaconda3\\lib\\site-packages\\gmplot\\gmplot.py:255: RuntimeWarning: invalid value encountered in double_scalars\n",
      "  x = ((lng1 - dlng + math.pi) % (2.0 * math.pi)) - math.pi\n"
     ]
    }
   ],
   "source": [
    "gmap = gmplot.GoogleMapPlotter(holiday_crimes.iloc[1,6], holiday_crimes.iloc[1,7], 10)\n",
    "\n",
    "gmap.scatter(holiday_crimes.iloc[:, 6], holiday_crimes.iloc[:, 7], '#FF6666', edge_width=5, marker=False)\n",
    "gmap.draw('independenceDay.html')"
   ]
  },
  {
   "cell_type": "code",
   "execution_count": 34,
   "metadata": {
    "collapsed": true
   },
   "outputs": [],
   "source": [
    "# bronx\n",
    "bronx = jul4.loc[df['Borough']=='BRONX']\n"
   ]
  },
  {
   "cell_type": "code",
   "execution_count": 52,
   "metadata": {},
   "outputs": [
    {
     "data": {
      "text/plain": [
       "Year  Offence                       \n",
       "2016  ASSAULT 3 & RELATED OFFENSES      30\n",
       "2012  ASSAULT 3 & RELATED OFFENSES      28\n",
       "2010  ASSAULT 3 & RELATED OFFENSES      23\n",
       "2013  PETIT LARCENY                     21\n",
       "2014  ASSAULT 3 & RELATED OFFENSES      21\n",
       "2016  PETIT LARCENY                     21\n",
       "2014  PETIT LARCENY                     20\n",
       "2007  CRIMINAL MISCHIEF & RELATED OF    19\n",
       "2009  ASSAULT 3 & RELATED OFFENSES      19\n",
       "2011  PETIT LARCENY                     19\n",
       "2008  CRIMINAL MISCHIEF & RELATED OF    18\n",
       "Name: Count, dtype: int64"
      ]
     },
     "execution_count": 52,
     "metadata": {},
     "output_type": "execute_result"
    }
   ],
   "source": [
    "bronx_crimes = bronx[['Year', 'Offence', 'Count']].groupby(['Year', 'Offence'])['Count'].count().nlargest(11)\n",
    "bronx_crimes"
   ]
  },
  {
   "cell_type": "code",
   "execution_count": 55,
   "metadata": {},
   "outputs": [
    {
     "data": {
      "text/plain": [
       "<matplotlib.axes._subplots.AxesSubplot at 0x1ec83f04320>"
      ]
     },
     "execution_count": 55,
     "metadata": {},
     "output_type": "execute_result"
    },
    {
     "data": {
      "image/png": "[encoded data removed]",
      "text/plain": [
       "<matplotlib.figure.Figure at 0x1ec83f0f748>"
      ]
     },
     "metadata": {},
     "output_type": "display_data"
    }
   ],
   "source": [
    "bronx_crimes.plot.bar(color='red', title=\"Top Crimes on July4 in Bronx\")"
   ]
  },
  {
   "cell_type": "code",
   "execution_count": 57,
   "metadata": {
    "collapsed": true
   },
   "outputs": [],
   "source": [
    "# brooklyn\n",
    "brooklyn = jul4.loc[df['Borough']=='BROOKLYN']"
   ]
  },
  {
   "cell_type": "code",
   "execution_count": 58,
   "metadata": {},
   "outputs": [
    {
     "data": {
      "text/plain": [
       "Year  Offence                       \n",
       "2014  PETIT LARCENY                     52\n",
       "2011  PETIT LARCENY                     46\n",
       "2013  PETIT LARCENY                     44\n",
       "2009  PETIT LARCENY                     43\n",
       "2010  PETIT LARCENY                     43\n",
       "2011  ASSAULT 3 & RELATED OFFENSES      43\n",
       "2015  ASSAULT 3 & RELATED OFFENSES      41\n",
       "2009  CRIMINAL MISCHIEF & RELATED OF    38\n",
       "2015  PETIT LARCENY                     37\n",
       "2006  PETIT LARCENY                     36\n",
       "2012  PETIT LARCENY                     36\n",
       "Name: Count, dtype: int64"
      ]
     },
     "execution_count": 58,
     "metadata": {},
     "output_type": "execute_result"
    }
   ],
   "source": [
    "brooklyn_crimes = brooklyn[['Year', 'Offence', 'Count']].groupby(['Year', 'Offence'])['Count'].count().nlargest(11)\n",
    "brooklyn_crimes"
   ]
  },
  {
   "cell_type": "code",
   "execution_count": 59,
   "metadata": {},
   "outputs": [
    {
     "data": {
      "text/plain": [
       "<matplotlib.axes._subplots.AxesSubplot at 0x1ec83cae4e0>"
      ]
     },
     "execution_count": 59,
     "metadata": {},
     "output_type": "execute_result"
    },
    {
     "data": {
      "image/png": "[encoded data removed]",
      "text/plain": [
       "<matplotlib.figure.Figure at 0x1ec83c167f0>"
      ]
     },
     "metadata": {},
     "output_type": "display_data"
    }
   ],
   "source": [
    "brooklyn_crimes.plot.bar(color='orange', title=\"Top Crimes on July4 in Brooklyn\")"
   ]
  },
  {
   "cell_type": "code",
   "execution_count": 60,
   "metadata": {
    "collapsed": true
   },
   "outputs": [],
   "source": [
    "# manhattan\n",
    "manhattan = jul4.loc[df['Borough']=='MANHATTAN']"
   ]
  },
  {
   "cell_type": "code",
   "execution_count": 61,
   "metadata": {},
   "outputs": [
    {
     "data": {
      "text/plain": [
       "Year  Offence                     \n",
       "2014  PETIT LARCENY                   36\n",
       "2009  PETIT LARCENY                   31\n",
       "2013  PETIT LARCENY                   31\n",
       "2016  PETIT LARCENY                   28\n",
       "2010  PETIT LARCENY                   26\n",
       "2008  PETIT LARCENY                   25\n",
       "2009  ASSAULT 3 & RELATED OFFENSES    25\n",
       "2006  PETIT LARCENY                   24\n",
       "2015  PETIT LARCENY                   24\n",
       "2007  PETIT LARCENY                   21\n",
       "2014  ASSAULT 3 & RELATED OFFENSES    20\n",
       "Name: Count, dtype: int64"
      ]
     },
     "execution_count": 61,
     "metadata": {},
     "output_type": "execute_result"
    }
   ],
   "source": [
    "manhattan_crimes = manhattan[['Year', 'Offence', 'Count']].groupby(['Year', 'Offence'])['Count'].count().nlargest(11)\n",
    "manhattan_crimes"
   ]
  },
  {
   "cell_type": "code",
   "execution_count": 75,
   "metadata": {},
   "outputs": [
    {
     "data": {
      "text/plain": [
       "<matplotlib.axes._subplots.AxesSubplot at 0x1ec84334ba8>"
      ]
     },
     "execution_count": 75,
     "metadata": {},
     "output_type": "execute_result"
    },
    {
     "data": {
      "image/png": "[encoded data removed]",
      "text/plain": [
       "<matplotlib.figure.Figure at 0x1ec847c65c0>"
      ]
     },
     "metadata": {},
     "output_type": "display_data"
    }
   ],
   "source": [
    "manhattan_crimes.plot.bar(color='purple', title=\"Top Crimes on July4 in Manhattan\")"
   ]
  },
  {
   "cell_type": "code",
   "execution_count": 63,
   "metadata": {
    "collapsed": true
   },
   "outputs": [],
   "source": [
    "# queens\n",
    "queens = jul4.loc[df['Borough']=='QUEENS']"
   ]
  },
  {
   "cell_type": "code",
   "execution_count": 64,
   "metadata": {},
   "outputs": [
    {
     "data": {
      "text/plain": [
       "Year  Offence                       \n",
       "2015  PETIT LARCENY                     38\n",
       "2014  PETIT LARCENY                     37\n",
       "2010  PETIT LARCENY                     32\n",
       "2011  ASSAULT 3 & RELATED OFFENSES      32\n",
       "2014  ASSAULT 3 & RELATED OFFENSES      30\n",
       "2012  ASSAULT 3 & RELATED OFFENSES      29\n",
       "2015  ASSAULT 3 & RELATED OFFENSES      29\n",
       "2009  CRIMINAL MISCHIEF & RELATED OF    28\n",
       "2011  PETIT LARCENY                     28\n",
       "2012  PETIT LARCENY                     28\n",
       "2013  PETIT LARCENY                     27\n",
       "Name: Count, dtype: int64"
      ]
     },
     "execution_count": 64,
     "metadata": {},
     "output_type": "execute_result"
    }
   ],
   "source": [
    "queens_crimes = queens[['Year', 'Offence', 'Count']].groupby(['Year', 'Offence'])['Count'].count().nlargest(11)\n",
    "queens_crimes"
   ]
  },
  {
   "cell_type": "code",
   "execution_count": 70,
   "metadata": {},
   "outputs": [
    {
     "data": {
      "text/plain": [
       "<matplotlib.axes._subplots.AxesSubplot at 0x1ec8433fb38>"
      ]
     },
     "execution_count": 70,
     "metadata": {},
     "output_type": "execute_result"
    },
    {
     "data": {
      "image/png": "[encoded data removed]",
      "text/plain": [
       "<matplotlib.figure.Figure at 0x1ec84355518>"
      ]
     },
     "metadata": {},
     "output_type": "display_data"
    }
   ],
   "source": [
    "queens_crimes.plot.bar(color='green', title=\"Top Crimes on July4 in Queens\")"
   ]
  },
  {
   "cell_type": "code",
   "execution_count": 67,
   "metadata": {
    "collapsed": true
   },
   "outputs": [],
   "source": [
    "# staten\n",
    "staten = jul4.loc[df['Borough']=='STATEN ISLAND']"
   ]
  },
  {
   "cell_type": "code",
   "execution_count": 68,
   "metadata": {},
   "outputs": [
    {
     "data": {
      "text/plain": [
       "Year  Offence                       \n",
       "2006  OFF. AGNST PUB ORD SENSBLTY &     10\n",
       "2009  CRIMINAL MISCHIEF & RELATED OF    10\n",
       "2006  CRIMINAL MISCHIEF & RELATED OF     9\n",
       "2007  CRIMINAL MISCHIEF & RELATED OF     9\n",
       "2012  CRIMINAL MISCHIEF & RELATED OF     9\n",
       "2013  PETIT LARCENY                      9\n",
       "2006  PETIT LARCENY                      8\n",
       "2013  CRIMINAL MISCHIEF & RELATED OF     8\n",
       "2007  PETIT LARCENY                      7\n",
       "2008  PETIT LARCENY                      7\n",
       "2009  PETIT LARCENY                      7\n",
       "Name: Count, dtype: int64"
      ]
     },
     "execution_count": 68,
     "metadata": {},
     "output_type": "execute_result"
    }
   ],
   "source": [
    "staten_crimes = staten[['Year', 'Offence', 'Count']].groupby(['Year', 'Offence'])['Count'].count().nlargest(11)\n",
    "staten_crimes"
   ]
  },
  {
   "cell_type": "code",
   "execution_count": 69,
   "metadata": {},
   "outputs": [
    {
     "data": {
      "text/plain": [
       "<matplotlib.axes._subplots.AxesSubplot at 0x1ec840b5668>"
      ]
     },
     "execution_count": 69,
     "metadata": {},
     "output_type": "execute_result"
    },
    {
     "data": {
      "image/png": "[encoded data removed]",
      "text/plain": [
       "<matplotlib.figure.Figure at 0x1ec8091f828>"
      ]
     },
     "metadata": {},
     "output_type": "display_data"
    }
   ],
   "source": [
    "staten_crimes.plot.bar(color='cyan', title=\"Top Crimes on July4 in Staten Island\")"
   ]
  },
  {
   "cell_type": "code",
   "execution_count": null,
   "metadata": {
    "collapsed": true
   },
   "outputs": [],
   "source": []
  }
 ],
 "metadata": {
  "kernelspec": {
   "display_name": "Python 3",
   "language": "python",
   "name": "python3"
  },
  "language_info": {
   "codemirror_mode": {
    "name": "ipython",
    "version": 3
   },
   "file_extension": ".py",
   "mimetype": "text/x-python",
   "name": "python",
   "nbconvert_exporter": "python",
   "pygments_lexer": "ipython3",
   "version": "3.6.1"
  }
 },
 "nbformat": 4,
 "nbformat_minor": 2
}
