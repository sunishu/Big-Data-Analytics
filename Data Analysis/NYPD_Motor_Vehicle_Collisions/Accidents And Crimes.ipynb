{
 "cells": [
  {
   "cell_type": "code",
   "execution_count": 39,
   "metadata": {
    "collapsed": true
   },
   "outputs": [],
   "source": [
    "import pandas as pd\n",
    "import numpy as np\n",
    "import matplotlib\n",
    "import matplotlib.pyplot as plt\n",
    "%matplotlib inline\n",
    "import gmplot"
   ]
  },
  {
   "cell_type": "code",
   "execution_count": 27,
   "metadata": {},
   "outputs": [
    {
     "name": "stderr",
     "output_type": "stream",
     "text": [
      "C:\\Users\\ss104\\Anaconda3\\lib\\site-packages\\IPython\\core\\interactiveshell.py:2717: DtypeWarning: Columns (3) have mixed types. Specify dtype option on import or set low_memory=False.\n",
      "  interactivity=interactivity, compiler=compiler, result=result)\n"
     ]
    }
   ],
   "source": [
    "csv = pd.read_csv('NYPD_Complaint_Data_Historic.csv')   "
   ]
  },
  {
   "cell_type": "code",
   "execution_count": 31,
   "metadata": {},
   "outputs": [],
   "source": [
    "csv = csv[['DATE', 'BOROUGH', 'LATITUDE', 'LONGITUDE', 'CONTRIBUTING FACTOR VEHICLE 1']]"
   ]
  },
  {
   "cell_type": "code",
   "execution_count": 44,
   "metadata": {},
   "outputs": [],
   "source": [
    "df = csv.loc[(csv['CONTRIBUTING FACTOR VEHICLE 1']=='Traffic Control Disregarded')|(csv['CONTRIBUTING FACTOR VEHICLE 1']=='Alcohol Involvement')]   "
   ]
  },
  {
   "cell_type": "code",
   "execution_count": 48,
   "metadata": {},
   "outputs": [
    {
     "name": "stderr",
     "output_type": "stream",
     "text": [
      "C:\\Users\\ss104\\Anaconda3\\lib\\site-packages\\pandas\\core\\generic.py:3813: SettingWithCopyWarning: \n",
      "A value is trying to be set on a copy of a slice from a DataFrame\n",
      "\n",
      "See the caveats in the documentation: http://pandas.pydata.org/pandas-docs/stable/indexing.html#indexing-view-versus-copy\n",
      "  self._update_inplace(new_data)\n"
     ]
    }
   ],
   "source": [
    "df['LATITUDE'].replace('', np.nan, inplace=True)\n",
    "df['LONGITUDE'].replace('', np.nan, inplace=True)"
   ]
  },
  {
   "cell_type": "code",
   "execution_count": 66,
   "metadata": {},
   "outputs": [],
   "source": [
    "df = df.dropna()\n"
   ]
  },
  {
   "cell_type": "code",
   "execution_count": 84,
   "metadata": {},
   "outputs": [],
   "source": [
    "new = pd.read_csv('event.csv', names=['Month', 'Date', 'Year', 'Offence', 'Offence_Desc', 'Borough', 'Lat', 'Long', 'Count'])  "
   ]
  },
  {
   "cell_type": "code",
   "execution_count": 85,
   "metadata": {},
   "outputs": [],
   "source": [
    "new1 = new.loc[new['Offence']==\"INTOXICATED & IMPAIRED DRIVING\"]"
   ]
  },
  {
   "cell_type": "code",
   "execution_count": 86,
   "metadata": {
    "collapsed": true
   },
   "outputs": [],
   "source": [
    "new2 = new.loc[new['Offence']=='VEHICLE AND TRAFFIC LAWS']"
   ]
  },
  {
   "cell_type": "code",
   "execution_count": 61,
   "metadata": {
    "collapsed": true
   },
   "outputs": [],
   "source": [
    "df1 = df.loc[df['CONTRIBUTING FACTOR VEHICLE 1']=='Alcohol Involvement']"
   ]
  },
  {
   "cell_type": "code",
   "execution_count": 67,
   "metadata": {},
   "outputs": [],
   "source": [
    "df2 = df.loc[df['CONTRIBUTING FACTOR VEHICLE 1']=='Traffic Control Disregarded']"
   ]
  },
  {
   "cell_type": "code",
   "execution_count": 70,
   "metadata": {},
   "outputs": [
    {
     "data": {
      "text/plain": [
       "Alcohol Involvement    6608\n",
       "Name: CONTRIBUTING FACTOR VEHICLE 1, dtype: int64"
      ]
     },
     "execution_count": 70,
     "metadata": {},
     "output_type": "execute_result"
    }
   ],
   "source": [
    "df1['CONTRIBUTING FACTOR VEHICLE 1'].value_counts()"
   ]
  },
  {
   "cell_type": "code",
   "execution_count": 91,
   "metadata": {
    "collapsed": true
   },
   "outputs": [],
   "source": [
    "gmap = gmplot.GoogleMapPlotter(df1.iloc[1,2], df1.iloc[1,3], 10)\n",
    "\n",
    "gmap.scatter(df1.iloc[:, 2], df1.iloc[:, 3], '#FF6666', edge_width=5, marker=False)\n",
    "gmap.draw('Accident-Alcohol Involvement.html')"
   ]
  },
  {
   "cell_type": "code",
   "execution_count": 71,
   "metadata": {},
   "outputs": [
    {
     "data": {
      "text/plain": [
       "Traffic Control Disregarded    9880\n",
       "Name: CONTRIBUTING FACTOR VEHICLE 1, dtype: int64"
      ]
     },
     "execution_count": 71,
     "metadata": {},
     "output_type": "execute_result"
    }
   ],
   "source": [
    "df2['CONTRIBUTING FACTOR VEHICLE 1'].value_counts()"
   ]
  },
  {
   "cell_type": "code",
   "execution_count": 92,
   "metadata": {},
   "outputs": [],
   "source": [
    "gmap = gmplot.GoogleMapPlotter(df2.iloc[1,2], df2.iloc[1,3], 10)\n",
    "\n",
    "gmap.scatter(df2.iloc[:, 2], df2.iloc[:, 3], '#FF6666', edge_width=5, marker=False)\n",
    "gmap.draw('Accident-Traffic Control Disregarded.html')"
   ]
  },
  {
   "cell_type": "code",
   "execution_count": 87,
   "metadata": {},
   "outputs": [
    {
     "data": {
      "text/plain": [
       "INTOXICATED & IMPAIRED DRIVING    12487\n",
       "Name: Offence, dtype: int64"
      ]
     },
     "execution_count": 87,
     "metadata": {},
     "output_type": "execute_result"
    }
   ],
   "source": [
    "new1['Offence'].value_counts()"
   ]
  },
  {
   "cell_type": "code",
   "execution_count": 88,
   "metadata": {},
   "outputs": [
    {
     "data": {
      "text/plain": [
       "VEHICLE AND TRAFFIC LAWS    10063\n",
       "Name: Offence, dtype: int64"
      ]
     },
     "execution_count": 88,
     "metadata": {},
     "output_type": "execute_result"
    }
   ],
   "source": [
    "new2['Offence'].value_counts()"
   ]
  },
  {
   "cell_type": "code",
   "execution_count": 93,
   "metadata": {},
   "outputs": [
    {
     "name": "stderr",
     "output_type": "stream",
     "text": [
      "C:\\Users\\ss104\\Anaconda3\\lib\\site-packages\\gmplot\\gmplot.py:255: RuntimeWarning: invalid value encountered in double_scalars\n",
      "  x = ((lng1 - dlng + math.pi) % (2.0 * math.pi)) - math.pi\n"
     ]
    }
   ],
   "source": [
    "gmap = gmplot.GoogleMapPlotter(new1.iloc[1,6], new1.iloc[1,7], 10)\n",
    "\n",
    "gmap.scatter(new1.iloc[:, 6], new1.iloc[:, 7], '#FF6666', edge_width=5, marker=False)\n",
    "gmap.draw('Crime-INTOXICATED & IMPAIRED DRIVING.html')"
   ]
  },
  {
   "cell_type": "code",
   "execution_count": 94,
   "metadata": {},
   "outputs": [
    {
     "name": "stderr",
     "output_type": "stream",
     "text": [
      "C:\\Users\\ss104\\Anaconda3\\lib\\site-packages\\gmplot\\gmplot.py:255: RuntimeWarning: invalid value encountered in double_scalars\n",
      "  x = ((lng1 - dlng + math.pi) % (2.0 * math.pi)) - math.pi\n"
     ]
    }
   ],
   "source": [
    "gmap = gmplot.GoogleMapPlotter(new2.iloc[1,6], new2.iloc[1,7], 10)\n",
    "\n",
    "gmap.scatter(new2.iloc[:, 6], new2.iloc[:, 7], '#FF6666', edge_width=5, marker=False)\n",
    "gmap.draw('Crime-VEHICLE AND TRAFFIC LAWS.html')"
   ]
  },
  {
   "cell_type": "code",
   "execution_count": null,
   "metadata": {
    "collapsed": true
   },
   "outputs": [],
   "source": []
  }
 ],
 "metadata": {
  "kernelspec": {
   "display_name": "Python 3",
   "language": "python",
   "name": "python3"
  },
  "language_info": {
   "codemirror_mode": {
    "name": "ipython",
    "version": 3
   },
   "file_extension": ".py",
   "mimetype": "text/x-python",
   "name": "python",
   "nbconvert_exporter": "python",
   "pygments_lexer": "ipython3",
   "version": "3.6.1"
  }
 },
 "nbformat": 4,
 "nbformat_minor": 2
}
